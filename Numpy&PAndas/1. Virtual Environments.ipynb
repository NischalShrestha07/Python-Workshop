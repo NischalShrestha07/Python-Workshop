{
 "cells": [
  {
   "cell_type": "markdown",
   "metadata": {},
   "source": [
    "# Virutal Environments"
   ]
  },
  {
   "cell_type": "markdown",
   "metadata": {},
   "source": [
    "### <li> Creates a isolated python environments so there won't be dependencies conflicts.\n",
    "### <li> Suppose you are working on 2 different projects. One project needs a scikit-learn version of 2.2 and the other 3.2. <br>  In this case two different separate virual environment comes to rescue.  "
   ]
  },
  {
   "cell_type": "markdown",
   "metadata": {},
   "source": [
    "# Two Ways"
   ]
  },
  {
   "cell_type": "markdown",
   "metadata": {},
   "source": [
    "### <li> Anaconda(MiniConda)\n",
    "### <li> Virual Env"
   ]
  },
  {
   "cell_type": "code",
   "execution_count": null,
   "metadata": {},
   "outputs": [],
   "source": []
  },
  {
   "cell_type": "markdown",
   "metadata": {},
   "source": [
    "# Virtual Env"
   ]
  },
  {
   "cell_type": "markdown",
   "metadata": {},
   "source": [
    "### <li> Installation: $ pip install virtualenv\n",
    "### <li> Creating:  \n",
    "        virtualenv virtualenv_name\n",
    "### <li> Activating:\n",
    "        source virtualenv_name/bin/activate\n",
    "### <li> Deactivating : \n",
    "         deactivate\n"
   ]
  },
  {
   "cell_type": "markdown",
   "metadata": {},
   "source": [
    "# Anaconda"
   ]
  },
  {
   "cell_type": "markdown",
   "metadata": {},
   "source": [
    "### Installation: https://docs.anaconda.com/anaconda/install/\n",
    "### Creating:\n",
    "    conda create -n virtualenv_name python=python-version\n",
    "    \n",
    "        Or\n",
    "\n",
    "        conda create -n virtualenv_name python==python-version\n",
    "   \n",
    "### <li> Activating:\n",
    "        conda  activate virtualenv_name\n",
    "\n",
    "### <li> Deactivating :\n",
    "        conda deactivate\n",
    "\n",
    "### Viewing List of conda environment\n",
    "        conda env list"
   ]
  },
  {
   "cell_type": "markdown",
   "metadata": {},
   "source": [
    "# CLI in notebook"
   ]
  },
  {
   "cell_type": "code",
   "execution_count": 2,
   "metadata": {},
   "outputs": [
    {
     "name": "stdout",
     "output_type": "stream",
     "text": [
      "Package                   Version\n",
      "------------------------- --------------------\n",
      "asttokens                 2.4.1\n",
      "attrs                     23.2.0\n",
      "backcall                  0.2.0\n",
      "colorama                  0.4.6\n",
      "comm                      0.2.2\n",
      "contourpy                 1.1.1\n",
      "cycler                    0.12.1\n",
      "debugpy                   1.8.1\n",
      "decorator                 5.1.1\n",
      "efficientnet              1.0.0\n",
      "executing                 2.0.1\n",
      "fastjsonschema            2.19.1\n",
      "fonttools                 4.51.0\n",
      "gast                      0.3.3\n",
      "google-auth               2.25.2\n",
      "graphviz                  0.20.3\n",
      "image-classifiers         1.0.0\n",
      "importlib_metadata        7.1.0\n",
      "importlib_resources       6.4.0\n",
      "ipykernel                 6.29.4\n",
      "ipython                   8.12.3\n",
      "jedi                      0.19.1\n",
      "joblib                    1.4.0\n",
      "jsonschema                4.21.1\n",
      "jsonschema-specifications 2023.12.1\n",
      "jupyter_client            8.6.1\n",
      "jupyter_core              5.7.2\n",
      "Keras-Applications        1.0.8\n",
      "kiwisolver                1.4.5\n",
      "matplotlib                3.7.5\n",
      "matplotlib-inline         0.1.7\n",
      "nbformat                  5.10.4\n",
      "nbmerge                   0.0.4\n",
      "nest-asyncio              1.6.0\n",
      "numpy                     1.24.4\n",
      "opencv-python             4.9.0.80\n",
      "packaging                 24.0\n",
      "pandas                    2.0.3\n",
      "parso                     0.8.4\n",
      "pickleshare               0.7.5\n",
      "pillow                    10.3.0\n",
      "pip                       23.3.1\n",
      "pkgutil_resolve_name      1.3.10\n",
      "platformdirs              4.2.1\n",
      "prompt-toolkit            3.0.43\n",
      "psutil                    5.9.8\n",
      "pure-eval                 0.2.2\n",
      "pyarrow                   16.0.0\n",
      "pydotplus                 2.0.2\n",
      "Pygments                  2.17.2\n",
      "pyparsing                 3.1.2\n",
      "python-dateutil           2.9.0.post0\n",
      "pytz                      2024.1\n",
      "pywin32                   306\n",
      "pyzmq                     26.0.2\n",
      "referencing               0.34.0\n",
      "retina-face               0.0.13\n",
      "rpds-py                   0.18.0\n",
      "scikit-learn              1.3.2\n",
      "scipy                     1.10.1\n",
      "seaborn                   0.13.2\n",
      "segmentation-models       1.0.1\n",
      "setuptools                68.2.2\n",
      "six                       1.16.0\n",
      "stack-data                0.6.3\n",
      "tensorflow-intel          2.13.0\n",
      "thop                      0.1.1.post2209072238\n",
      "threadpoolctl             3.4.0\n",
      "tornado                   6.4\n",
      "traitlets                 5.14.3\n",
      "typing_extensions         4.11.0\n",
      "tzdata                    2024.1\n",
      "ultralytics               8.0.228\n",
      "wcwidth                   0.2.13\n",
      "wheel                     0.41.2\n",
      "zipp                      3.18.1\n"
     ]
    }
   ],
   "source": [
    "!pip list"
   ]
  },
  {
   "cell_type": "code",
   "execution_count": 2,
   "metadata": {},
   "outputs": [
    {
     "name": "stdout",
     "output_type": "stream",
     "text": [
      "# conda environments:\n",
      "#\n",
      "base                     C:\\Users\\Ghost\\anaconda3\n",
      "cfc                   *  C:\\Users\\Ghost\\anaconda3\\envs\\cfc\n",
      "galli_maps               C:\\Users\\Ghost\\anaconda3\\envs\\galli_maps\n",
      "genai360                 C:\\Users\\Ghost\\anaconda3\\envs\\genai360\n",
      "labeling_gd              C:\\Users\\Ghost\\anaconda3\\envs\\labeling_gd\n",
      "ocrlabel                 C:\\Users\\Ghost\\anaconda3\\envs\\ocrlabel\n",
      "recom                    C:\\Users\\Ghost\\anaconda3\\envs\\recom\n",
      "synth                    C:\\Users\\Ghost\\anaconda3\\envs\\synth\n",
      "                         C:\\env\n",
      "\n"
     ]
    }
   ],
   "source": [
    "!conda env list"
   ]
  },
  {
   "cell_type": "code",
   "execution_count": 4,
   "metadata": {},
   "outputs": [
    {
     "name": "stdout",
     "output_type": "stream",
     "text": [
      "Python 3.8.19\n"
     ]
    }
   ],
   "source": [
    "!python -V"
   ]
  },
  {
   "cell_type": "code",
   "execution_count": 3,
   "metadata": {},
   "outputs": [
    {
     "name": "stdout",
     "output_type": "stream",
     "text": [
      "Collecting scikit-learn\n",
      "  Using cached scikit_learn-1.3.2-cp38-cp38-win_amd64.whl.metadata (11 kB)\n",
      "Collecting numpy<2.0,>=1.17.3 (from scikit-learn)\n",
      "  Using cached numpy-1.24.4-cp38-cp38-win_amd64.whl.metadata (5.6 kB)\n",
      "Collecting scipy>=1.5.0 (from scikit-learn)\n",
      "  Using cached scipy-1.10.1-cp38-cp38-win_amd64.whl.metadata (58 kB)\n",
      "Collecting joblib>=1.1.1 (from scikit-learn)\n",
      "  Using cached joblib-1.4.0-py3-none-any.whl.metadata (5.4 kB)\n",
      "Collecting threadpoolctl>=2.0.0 (from scikit-learn)\n",
      "  Using cached threadpoolctl-3.4.0-py3-none-any.whl.metadata (13 kB)\n",
      "Using cached scikit_learn-1.3.2-cp38-cp38-win_amd64.whl (9.3 MB)\n",
      "Using cached joblib-1.4.0-py3-none-any.whl (301 kB)\n",
      "Using cached numpy-1.24.4-cp38-cp38-win_amd64.whl (14.9 MB)\n",
      "Using cached scipy-1.10.1-cp38-cp38-win_amd64.whl (42.2 MB)\n",
      "Using cached threadpoolctl-3.4.0-py3-none-any.whl (17 kB)\n",
      "Installing collected packages: threadpoolctl, numpy, joblib, scipy, scikit-learn\n",
      "Successfully installed joblib-1.4.0 numpy-1.24.4 scikit-learn-1.3.2 scipy-1.10.1 threadpoolctl-3.4.0\n"
     ]
    },
    {
     "name": "stderr",
     "output_type": "stream",
     "text": [
      "ERROR: pip's dependency resolver does not currently take into account all the packages that are installed. This behaviour is the source of the following dependency conflicts.\n",
      "keras-applications 1.0.8 requires h5py, which is not installed.\n",
      "efficientnet 1.0.0 requires scikit-image, which is not installed.\n",
      "retina-face 0.0.13 requires gdown>=3.10.1, which is not installed.\n",
      "retina-face 0.0.13 requires opencv-python>=3.4.4, which is not installed.\n",
      "retina-face 0.0.13 requires Pillow>=5.2.0, which is not installed.\n",
      "retina-face 0.0.13 requires tensorflow>=1.9.0, which is not installed.\n",
      "tensorflow-intel 2.13.0 requires absl-py>=1.0.0, which is not installed.\n",
      "tensorflow-intel 2.13.0 requires astunparse>=1.6.0, which is not installed.\n",
      "tensorflow-intel 2.13.0 requires flatbuffers>=23.1.21, which is not installed.\n",
      "tensorflow-intel 2.13.0 requires google-pasta>=0.1.1, which is not installed.\n",
      "tensorflow-intel 2.13.0 requires grpcio<2.0,>=1.24.3, which is not installed.\n",
      "tensorflow-intel 2.13.0 requires h5py>=2.9.0, which is not installed.\n",
      "tensorflow-intel 2.13.0 requires keras<2.14,>=2.13.1, which is not installed.\n",
      "tensorflow-intel 2.13.0 requires libclang>=13.0.0, which is not installed.\n",
      "tensorflow-intel 2.13.0 requires opt-einsum>=2.3.2, which is not installed.\n",
      "tensorflow-intel 2.13.0 requires protobuf!=4.21.0,!=4.21.1,!=4.21.2,!=4.21.3,!=4.21.4,!=4.21.5,<5.0.0dev,>=3.20.3, which is not installed.\n",
      "tensorflow-intel 2.13.0 requires tensorboard<2.14,>=2.13, which is not installed.\n",
      "tensorflow-intel 2.13.0 requires tensorflow-estimator<2.14,>=2.13.0, which is not installed.\n",
      "tensorflow-intel 2.13.0 requires tensorflow-io-gcs-filesystem>=0.23.1; platform_machine != \"arm64\" or platform_system != \"Darwin\", which is not installed.\n",
      "tensorflow-intel 2.13.0 requires termcolor>=1.1.0, which is not installed.\n",
      "tensorflow-intel 2.13.0 requires wrapt>=1.11.0, which is not installed.\n",
      "ultralytics 8.0.228 requires matplotlib>=3.3.0, which is not installed.\n",
      "ultralytics 8.0.228 requires opencv-python>=4.6.0, which is not installed.\n",
      "ultralytics 8.0.228 requires pandas>=1.1.4, which is not installed.\n",
      "ultralytics 8.0.228 requires pillow>=7.1.2, which is not installed.\n",
      "ultralytics 8.0.228 requires py-cpuinfo, which is not installed.\n",
      "ultralytics 8.0.228 requires pyyaml>=5.3.1, which is not installed.\n",
      "ultralytics 8.0.228 requires requests>=2.23.0, which is not installed.\n",
      "ultralytics 8.0.228 requires seaborn>=0.11.0, which is not installed.\n",
      "ultralytics 8.0.228 requires torch>=1.8.0, which is not installed.\n",
      "ultralytics 8.0.228 requires torchvision>=0.9.0, which is not installed.\n",
      "ultralytics 8.0.228 requires tqdm>=4.64.0, which is not installed.\n",
      "tensorflow-intel 2.13.0 requires numpy<=1.24.3,>=1.22, but you have numpy 1.24.4 which is incompatible.\n",
      "tensorflow-intel 2.13.0 requires typing-extensions<4.6.0,>=3.6.6, but you have typing-extensions 4.11.0 which is incompatible.\n"
     ]
    }
   ],
   "source": [
    "!pip install scikit-learn"
   ]
  },
  {
   "cell_type": "code",
   "execution_count": null,
   "metadata": {},
   "outputs": [],
   "source": []
  }
 ],
 "metadata": {
  "kernelspec": {
   "display_name": "Python 3",
   "language": "python",
   "name": "python3"
  },
  "language_info": {
   "codemirror_mode": {
    "name": "ipython",
    "version": 3
   },
   "file_extension": ".py",
   "mimetype": "text/x-python",
   "name": "python",
   "nbconvert_exporter": "python",
   "pygments_lexer": "ipython3",
   "version": "3.8.19"
  }
 },
 "nbformat": 4,
 "nbformat_minor": 2
}
